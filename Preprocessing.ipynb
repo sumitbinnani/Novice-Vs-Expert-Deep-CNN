{
 "cells": [
  {
   "cell_type": "markdown",
   "metadata": {},
   "source": [
    "## Importing Required Libraries"
   ]
  },
  {
   "cell_type": "code",
   "execution_count": 1,
   "metadata": {
    "collapsed": true
   },
   "outputs": [],
   "source": [
    "import os\n",
    "import glob\n",
    "import scipy.io as sio\n",
    "import numpy as np\n",
    "from skimage.transform import *\n",
    "from skimage.io import *\n",
    "import tqdm\n",
    "import warnings\n",
    "warnings.filterwarnings(\"ignore\")"
   ]
  },
  {
   "cell_type": "markdown",
   "metadata": {},
   "source": [
    "# Setting Variables"
   ]
  },
  {
   "cell_type": "code",
   "execution_count": 2,
   "metadata": {
    "collapsed": false
   },
   "outputs": [],
   "source": [
    "IMAGE_PATH = \"images/*\"\n",
    "ANNOTATION_PATH = \"annotations-mat\"\n",
    "\n",
    "output_shape = (224, 224)\n",
    "mode = {'mode': 'constant'}\n",
    "OUTPUT_PATH = \"resized_images_padded_0\"\n",
    "try:\n",
    "    os.stat(OUTPUT_PATH)\n",
    "except:\n",
    "    os.makedirs(OUTPUT_PATH)"
   ]
  },
  {
   "cell_type": "markdown",
   "metadata": {},
   "source": [
    "# Looping Through the Images"
   ]
  },
  {
   "cell_type": "code",
   "execution_count": 3,
   "metadata": {
    "collapsed": false,
    "scrolled": false
   },
   "outputs": [
    {
     "name": "stderr",
     "output_type": "stream",
     "text": [
      "100%|██████████| 25/25 [00:00<00:00, 35.71it/s]\n"
     ]
    }
   ],
   "source": [
    "import matplotlib.pyplot as plt\n",
    "\n",
    "for x in tqdm.tqdm(glob.glob('images/*/*.jpg')):\n",
    "    img_name = os.path.basename(x)\n",
    "    mat_name = img_name.replace(\".jpg\", \".mat\")\n",
    "    dir_name = os.path.basename(os.path.dirname(x))\n",
    "    mat_path = os.path.join(ANNOTATION_PATH, dir_name, mat_name)\n",
    "    \n",
    "    image = imread(x)\n",
    "    mat = sio.loadmat(mat_path)\n",
    "    left, top, right, bottom = [mat['bbox'][0][0][i][0][0] for i in range(4)]    \n",
    "    \n",
    "    max_pad = max(int(right - left), int(bottom - top))\n",
    "    r = image[:,:,0]\n",
    "    g = image[:,:,1]\n",
    "    b = image[:,:,2]\n",
    "    r = np.pad(r, max_pad, **mode)\n",
    "    g = np.pad(g, max_pad, **mode)\n",
    "    b = np.pad(b, max_pad, **mode)\n",
    "    padded_image = np.dstack([r, g, b])\n",
    "    \n",
    "    center_hor = left + max_pad + int((right - left) / 2 + 0.5)\n",
    "    center_ver = top + max_pad + int((bottom - top) / 2 + 0.5)\n",
    "    max_pad = int(max_pad / 2 + 0.5)\n",
    "    cropped_image = padded_image[center_ver - max_pad: center_ver + max_pad, center_hor - max_pad: center_hor + max_pad]\n",
    "    \n",
    "    resized_image = resize(cropped_image, output_shape)\n",
    "    \n",
    "    try:\n",
    "        imsave(os.path.join(OUTPUT_PATH, dir_name, img_name), resized_image)\n",
    "    except:\n",
    "        os.makedirs(os.path.join(OUTPUT_PATH, dir_name))\n",
    "        imsave(os.path.join(OUTPUT_PATH, dir_name, img_name), resized_image)"
   ]
  }
 ],
 "metadata": {
  "kernelspec": {
   "display_name": "pytorch3",
   "language": "python",
   "name": "pytorch3"
  },
  "language_info": {
   "codemirror_mode": {
    "name": "ipython",
    "version": 3
   },
   "file_extension": ".py",
   "mimetype": "text/x-python",
   "name": "python",
   "nbconvert_exporter": "python",
   "pygments_lexer": "ipython3",
   "version": "3.6.1"
  }
 },
 "nbformat": 4,
 "nbformat_minor": 2
}
